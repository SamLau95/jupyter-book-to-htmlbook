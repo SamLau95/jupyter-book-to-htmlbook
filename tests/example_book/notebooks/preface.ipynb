{
 "cells": [
  {
   "cell_type": "markdown",
   "metadata": {},
   "source": [
    "# Preface"
   ]
  },
  {
   "cell_type": "markdown",
   "metadata": {},
   "source": [
    "This example repository is meant to serve as a template and explainer for authoring O'Reilly book content in [Jupyter Notebooks](https://jupyter.org) and transforming that Jupyter Notebook content into files that can be consumed by [Atlas](https://atlas.oreilly.com/).\n",
    "\n",
    "```{note}\n",
    "This content doesn't actually apply to authors working in Jupyter Book!\n",
    "```"
   ]
  },
  {
   "cell_type": "markdown",
   "metadata": {},
   "source": [
    "## Who Is This Book For?\n",
    "\n",
    "This example \"book\" is for authors who want to write in Jupyter Notebooks -- whether because they are adapting existing notebooks into a book, they want to open source the book notebooks after publication, etc., -- but who want to be able to check their work via Atlas during the writing process, and who may, especially in the case where an author or authors want to share the notebooks after (book) production, want any changes that occur during the production phase of the book to be reflected in the notebook files (e.g., copyedits, content changes, etc.)."
   ]
  },
  {
   "cell_type": "markdown",
   "metadata": {},
   "source": [
    "## What Are the Alternatives?\n",
    "\n",
    "The typical O'Reilly Atlas workflow is to either author in MS Word or Google Docs and have those files converted into [HTMLBook](https://oreillymedia.github.io/HTMLBook/) during production, or else authors work in Atlas directly authoring in [asciidoc](https://asciidoctor.org/docs/what-is-asciidoc/). As a reminder, Atlas is essentially a GUI front for a Git back-end, so writing in asciidoc ends up being very similar to authoring, say, markdown in a Jekyll site. \n",
    "\n"
   ]
  },
  {
   "cell_type": "code",
   "execution_count": null,
   "metadata": {
    "vscode": {
     "languageId": "plaintext"
    }
   },
   "outputs": [],
   "source": []
  },
  {
   "cell_type": "markdown",
   "metadata": {},
   "source": [
    "## What is the Process?\n",
    "\n",
    "The actual conversion process will be detailed further in [Chapter 1](ch01), but in brief:\n",
    "\n",
    "1. Notebook files are transformed into asciidoc files via [`fastdoc`](https://github.com/fastai/fastdoc)\n",
    "2. The notebook-output asciidoc files are postprocessed to correct xref errors, add figure captions, and a few other small Atlas-specific changes.\n",
    "3. Output asciidoc files are then [\"included\"](https://docs.asciidoctor.org/asciidoc/latest/directives/include/) in chapter files in the root directory, where they are linked to in the _atlas.json_ file just like any other Atlas book.\n",
    "\n",
    "We will discuss what this means in terms of production -- including the early release process -- in [Chapter 2](ch2)"
   ]
  }
 ],
 "metadata": {
  "anaconda-cloud": {},
  "jupytext": {
   "formats": "ipynb,md"
  },
  "kernelspec": {
   "display_name": "Python 3.9.6 64-bit ('3.9.6')",
   "language": "python",
   "name": "python3"
  },
  "language_info": {
   "codemirror_mode": {
    "name": "ipython",
    "version": 3
   },
   "file_extension": ".py",
   "mimetype": "text/x-python",
   "name": "python",
   "nbconvert_exporter": "python",
   "pygments_lexer": "ipython3",
   "version": "3.9.6"
  },
  "vscode": {
   "interpreter": {
    "hash": "513788764cd0ec0f97313d5418a13e1ea666d16d72f976a8acadce25a5af2ffc"
   }
  }
 },
 "nbformat": 4,
 "nbformat_minor": 4
}
