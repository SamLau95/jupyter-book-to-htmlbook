{
 "cells": [
  {
   "cell_type": "markdown",
   "metadata": {},
   "source": [
    "# This Is a Chapter Section in Its Own File"
   ]
  },
  {
   "cell_type": "markdown",
   "metadata": {},
   "source": [
    "What's interesting is that, without the `leveloffset` markers around the `include` directives, this would show up as a main-level heading! Obviously that's now what we want, so let's explore that a little further."
   ]
  },
  {
   "cell_type": "markdown",
   "metadata": {},
   "source": [
    "Here is a test. This is a example of footnote.[<sup>1</sup>](#fn1) Another footnote, but this time the period is on the outside[<sup>2</sup>](#fn2). \n",
    "\n",
    "Wildly, there is a third.[<sup>3</sup>](#fn3)\n",
    "\n",
    "Some code:"
   ]
  },
  {
   "cell_type": "code",
   "execution_count": 2,
   "metadata": {},
   "outputs": [],
   "source": [
    "def print_me(n: int):\n",
    "    print(\"Me!\" * n)"
   ]
  },
  {
   "cell_type": "markdown",
   "metadata": {},
   "source": [
    "## Notes\n",
    "\n",
    "1. <span id=\"fn1\"></span> footnote 1\n",
    "1. <span id=\"fn2\"></span> footnote 2, except now with an [example link](http://example.com).\n",
    "3. <span id=\"fn3\"></span> Here is, again, another footnote."
   ]
  }
 ],
 "metadata": {
  "interpreter": {
   "hash": "2c706d967fb9378819a4a1904d50edffbcc852c9ca5e3a876e27280ba15c08a9"
  },
  "kernelspec": {
   "display_name": "Python 3.7.3 64-bit ('3.7.3')",
   "language": "python",
   "name": "python3"
  },
  "language_info": {
   "codemirror_mode": {
    "name": "ipython",
    "version": 3
   },
   "file_extension": ".py",
   "mimetype": "text/x-python",
   "name": "python",
   "nbconvert_exporter": "python",
   "pygments_lexer": "ipython3",
   "version": "3.7.3"
  },
  "orig_nbformat": 4
 },
 "nbformat": 4,
 "nbformat_minor": 2
}
