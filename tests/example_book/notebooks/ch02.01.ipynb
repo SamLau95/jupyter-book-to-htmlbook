{
 "cells": [
  {
   "cell_type": "markdown",
   "metadata": {},
   "source": [
    "# This Is a Chapter Section in Its Own File"
   ]
  },
  {
   "cell_type": "markdown",
   "metadata": {},
   "source": [
    "What's interesting is that, without the `leveloffset` markers around the `include` directives, this would show up as a main-level heading! Obviously that's now what we want, so let's explore that a little further."
   ]
  },
  {
   "cell_type": "markdown",
   "metadata": {},
   "source": [
    "Here is a test. This is a example of footnote.[<sup>1</sup>](#fn1) Another footnote, but this time the period is on the outside[<sup>2</sup>](#fn2). \n",
    "\n",
    "Wildly, there is a third.[<sup>3</sup>](#fn3)\n",
    "\n",
    "Some code:"
   ]
  },
  {
   "cell_type": "code",
   "execution_count": 2,
   "metadata": {},
   "outputs": [],
   "source": [
    "def print_me(n: int):\n",
    "    print(\"Me!\" * n)"
   ]
  },
  {
   "attachments": {},
   "cell_type": "markdown",
   "metadata": {},
   "source": [
    "Finally, here is a citation {cite}`book`. And then some others {cite}`article`, {cite}`booklet`."
   ]
  },
  {
   "cell_type": "markdown",
   "metadata": {},
   "source": [
    "## Notes\n",
    "\n",
    "1. <span id=\"fn1\"></span> footnote 1\n",
    "1. <span id=\"fn2\"></span> footnote 2, except now with an [example link](http://example.com).\n",
    "3. <span id=\"fn3\"></span> Here is, again, another footnote."
   ]
  },
  {
   "attachments": {},
   "cell_type": "markdown",
   "metadata": {},
   "source": [
    "# Bibliography\n",
    "\n",
    "```{bibliography}\n",
    ":style: alpha\n",
    "```"
   ]
  }
 ],
 "metadata": {
  "kernelspec": {
   "display_name": "Python 3",
   "language": "python",
   "name": "python3"
  },
  "language_info": {
   "codemirror_mode": {
    "name": "ipython",
    "version": 3
   },
   "file_extension": ".py",
   "mimetype": "text/x-python",
   "name": "python",
   "nbconvert_exporter": "python",
   "pygments_lexer": "ipython3",
   "version": "3.9.6 (default, Jun 13 2022, 11:08:50) \n[Clang 13.0.0 (clang-1300.0.29.30)]"
  },
  "orig_nbformat": 4,
  "vscode": {
   "interpreter": {
    "hash": "513788764cd0ec0f97313d5418a13e1ea666d16d72f976a8acadce25a5af2ffc"
   }
  }
 },
 "nbformat": 4,
 "nbformat_minor": 2
}
